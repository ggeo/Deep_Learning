{
 "cells": [
  {
   "cell_type": "code",
   "execution_count": 61,
   "metadata": {
    "collapsed": false
   },
   "outputs": [
    {
     "name": "stdout",
     "output_type": "stream",
     "text": [
      "Wrong classifications: 5\n",
      "Accuracy: 0.8888888888888888\n"
     ]
    }
   ],
   "source": [
    "import numpy as np\n",
    "import seaborn as sns\n",
    "import matplotlib.pyplot as plt\n",
    "from sklearn import datasets\n",
    "from sklearn.model_selection import train_test_split\n",
    "from sklearn.preprocessing import StandardScaler\n",
    "from sklearn.linear_model import Perceptron\n",
    "from sklearn.metrics import accuracy_score\n",
    "\n",
    "sns.set()\n",
    "%matplotlib inline\n",
    "\n",
    "# Load the iris dataset\n",
    "iris = datasets.load_iris()\n",
    "# Extract the 3rd and 4th features (petal length, petal width)\n",
    "X = iris.data[:, [2,3]]\n",
    "y = iris.target\n",
    "# Split data into training and test datasets.\n",
    "# 30% is the testing data and the rest 70% is the training data\n",
    "X_train, X_test, y_train, y_test = train_test_split(X, y, test_size=0.3, random_state=0)\n",
    "\n",
    "# Standardize features so they have the properties of standar normal distribution (mean = 0, std = 1)\n",
    "# (generally, it is used if we have to compare features that have different units)\n",
    "standard_scaler = StandardScaler()\n",
    "standard_scaler.fit(X_train)\n",
    "X_train = standard_scaler.transform(X_train)\n",
    "X_test = standard_scaler.transform(X_test)\n",
    "# Train the perceptron model\n",
    "per = Perceptron(n_iter=1000, eta0=0.01, random_state=0)\n",
    "per.fit(X_train, y_train)\n",
    "# Predict\n",
    "y_pred = per.predict(X_test)\n",
    "# Find out how many wrong classifications we had and what was the accuracy\n",
    "print('Wrong classifications: {0}'.format(np.sum(y_test != y_pred)))\n",
    "print('Accuracy: {0}'.format(accuracy_score(y_test, y_pred)))"
   ]
  },
  {
   "cell_type": "code",
   "execution_count": 62,
   "metadata": {
    "collapsed": false
   },
   "outputs": [
    {
     "data": {
      "image/png": "[encoded data removed]",
      "text/plain": [
       "<matplotlib.figure.Figure at 0x7f65417c3128>"
      ]
     },
     "metadata": {},
     "output_type": "display_data"
    }
   ],
   "source": [
    "# Create x,y limits and a meshgrid.\n",
    "x_min, x_max = X_train[:, 0].min() - 1, X_train[:, 0].max() + 1\n",
    "y_min, y_max = X_train[:, 1].min() - 1, X_train[:, 1].max() + 1\n",
    "# Step size in the mesh.\n",
    "h_step = 0.02\n",
    "xx, yy = np.meshgrid(np.arange(x_min, x_max, h_step), np.arange(y_min, y_max, h_step))\n",
    "# Plot the decision boundary (predict).\n",
    "# Assign a color to each point in the mesh.\n",
    "fig, ax = plt.subplots()\n",
    "Z = per.predict(np.c_[xx.ravel(), yy.ravel()])\n",
    "Z = Z.reshape(xx.shape)\n",
    "# Make contourf plot\n",
    "ax.contourf(xx, yy, Z, cmap='RdGy')\n",
    "# Plot the training points\n",
    "colors = ('#b6f2a5', '#008080', '#ff7373')\n",
    "markers = ('o','*', '+')\n",
    "# unique gives us (0,1,2)\n",
    "for idx, el in enumerate(np.unique(y)):\n",
    "    ax.scatter(X_train[y_train == el , 0], X_train[y_train == el, 1],marker=markers[idx], color=colors[idx], alpha=0.9, label=el)\n",
    "\n",
    "ax.set_title('Perceptron')\n",
    "ax.set_xlabel('Petal length(cm)')\n",
    "ax.set_ylabel('Petal width(cm)')\n",
    "plt.legend()\n",
    "ax.grid(b=False)\n",
    "plt.show()"
   ]
  },
  {
   "cell_type": "markdown",
   "metadata": {},
   "source": [
    "We can see that the three cases cannot be separated by a linear decision boundary.This is a problem of perceptron not converging."
   ]
  }
 ],
 "metadata": {
  "kernelspec": {
   "display_name": "Python 3",
   "language": "python",
   "name": "python3"
  },
  "language_info": {
   "codemirror_mode": {
    "name": "ipython",
    "version": 3
   },
   "file_extension": ".py",
   "mimetype": "text/x-python",
   "name": "python",
   "nbconvert_exporter": "python",
   "pygments_lexer": "ipython3",
   "version": "3.6.0"
  }
 },
 "nbformat": 4,
 "nbformat_minor": 2
}
